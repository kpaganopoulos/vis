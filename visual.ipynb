{
 "cells": [
  {
   "cell_type": "markdown",
   "metadata": {},
   "source": [
    "# Best honeymoon in Athens with a low budget"
   ]
  },
  {
   "cell_type": "markdown",
   "metadata": {},
   "source": [
    "## Visualisation - Final Project\n",
    "### Team P Python Markdown"
   ]
  },
  {
   "cell_type": "markdown",
   "metadata": {},
   "source": [
    "We load any necessary libraries and the data set:"
   ]
  },
  {
   "cell_type": "code",
   "execution_count": 1,
   "metadata": {},
   "outputs": [],
   "source": [
    "import pandas as pd\n",
    "import numpy as np\n",
    "import nltk\n",
    "import os\n",
    "import nltk.corpus\n",
    "from nltk.tokenize import word_tokenize\n",
    "from nltk.probability import FreqDist\n",
    "import matplotlib.pyplot as plt\n",
    "import warnings\n",
    "warnings.filterwarnings('ignore')\n",
    "data = pd.read_csv('listings_cleaned.csv',sep = ',')"
   ]
  },
  {
   "cell_type": "markdown",
   "metadata": {},
   "source": [
    "## 1) Filter properties with proper double bed\n"
   ]
  },
  {
   "cell_type": "code",
   "execution_count": 2,
   "metadata": {},
   "outputs": [
    {
     "data": {
      "text/plain": [
       "(8913, 29)"
      ]
     },
     "execution_count": 2,
     "metadata": {},
     "output_type": "execute_result"
    }
   ],
   "source": [
    "data.shape"
   ]
  },
  {
   "cell_type": "code",
   "execution_count": 3,
   "metadata": {},
   "outputs": [
    {
     "data": {
      "text/plain": [
       "array(['Entire home/apt', 'Private room', 'Hotel room', 'Shared room'],\n",
       "      dtype=object)"
      ]
     },
     "execution_count": 3,
     "metadata": {},
     "output_type": "execute_result"
    }
   ],
   "source": [
    "data.room_type.unique()"
   ]
  },
  {
   "cell_type": "code",
   "execution_count": 4,
   "metadata": {},
   "outputs": [],
   "source": [
    "data_room = data.room_type.dropna()"
   ]
  },
  {
   "cell_type": "code",
   "execution_count": 5,
   "metadata": {},
   "outputs": [
    {
     "data": {
      "text/plain": [
       "Index(['id', 'listing_url', 'neighbourhood', 'latitude', 'longitude',\n",
       "       'property_type', 'room_type', 'bathrooms', 'bedrooms', 'beds',\n",
       "       'bed_type', 'amenities', 'price', 'guests_included', 'extra_people',\n",
       "       'availability_30', 'availability_60', 'availability_90',\n",
       "       'availability_365', 'number_of_reviews', 'number_of_reviews_ltm',\n",
       "       'review_scores_rating', 'review_scores_accuracy',\n",
       "       'review_scores_cleanliness', 'review_scores_checkin',\n",
       "       'review_scores_communication', 'review_scores_location',\n",
       "       'review_scores_value', 'reviews_per_month'],\n",
       "      dtype='object')"
      ]
     },
     "execution_count": 5,
     "metadata": {},
     "output_type": "execute_result"
    }
   ],
   "source": [
    "data.keys()"
   ]
  },
  {
   "cell_type": "code",
   "execution_count": 6,
   "metadata": {},
   "outputs": [],
   "source": [
    "room = ['Entire home/apt']\n",
    "data.room_type.isin(room)\n",
    "\n",
    "df_room = data[data.room_type.isin(room)]"
   ]
  },
  {
   "cell_type": "code",
   "execution_count": 7,
   "metadata": {},
   "outputs": [
    {
     "data": {
      "text/plain": [
       "(8162, 29)"
      ]
     },
     "execution_count": 7,
     "metadata": {},
     "output_type": "execute_result"
    }
   ],
   "source": [
    "df_room.shape"
   ]
  },
  {
   "cell_type": "code",
   "execution_count": 8,
   "metadata": {},
   "outputs": [
    {
     "data": {
      "text/plain": [
       "array(['Real Bed', 'Pull-out Sofa', 'Futon', 'Couch', 'Airbed'],\n",
       "      dtype=object)"
      ]
     },
     "execution_count": 8,
     "metadata": {},
     "output_type": "execute_result"
    }
   ],
   "source": [
    "df_room.bed_type.unique()"
   ]
  },
  {
   "cell_type": "markdown",
   "metadata": {},
   "source": [
    "We found all properties in Athens that have a proper real bed for couples:"
   ]
  },
  {
   "cell_type": "code",
   "execution_count": 9,
   "metadata": {},
   "outputs": [],
   "source": [
    "df_room_bed = df_room[df_room['bed_type'] == 'Real Bed']"
   ]
  },
  {
   "cell_type": "code",
   "execution_count": 10,
   "metadata": {},
   "outputs": [
    {
     "data": {
      "text/plain": [
       "(8101, 29)"
      ]
     },
     "execution_count": 10,
     "metadata": {},
     "output_type": "execute_result"
    }
   ],
   "source": [
    "df_room_bed.shape"
   ]
  },
  {
   "cell_type": "markdown",
   "metadata": {},
   "source": [
    "## 2) Find Amenities frequency"
   ]
  },
  {
   "cell_type": "code",
   "execution_count": 12,
   "metadata": {},
   "outputs": [],
   "source": [
    "amenities = df_room_bed.amenities"
   ]
  },
  {
   "cell_type": "code",
   "execution_count": 13,
   "metadata": {},
   "outputs": [],
   "source": [
    "def remove_punctuation(word):\n",
    "    word = word.replace('{',' ')\n",
    "    word = word.replace('/',' ')\n",
    "    word = word.replace('\"',' ')\n",
    "    word = word.replace('}',' ')\n",
    "    word = word.replace(',',' ')\n",
    "    word = word.replace('and', ' ')\n",
    "    word = word.replace('or', ' ')\n",
    "    word = word.replace('to', ' ')\n",
    "    word = word.strip()\n",
    "    return(word)"
   ]
  },
  {
   "cell_type": "code",
   "execution_count": 14,
   "metadata": {},
   "outputs": [],
   "source": [
    "text = []\n",
    "for items in amenities:\n",
    "    no_pun = remove_punctuation(items)\n",
    "    text.append(no_pun)"
   ]
  },
  {
   "cell_type": "code",
   "execution_count": 15,
   "metadata": {
    "scrolled": false
   },
   "outputs": [],
   "source": [
    "text = ','.join(text)"
   ]
  },
  {
   "cell_type": "code",
   "execution_count": 16,
   "metadata": {},
   "outputs": [],
   "source": [
    "token = word_tokenize(text)"
   ]
  },
  {
   "cell_type": "code",
   "execution_count": 17,
   "metadata": {},
   "outputs": [],
   "source": [
    "fdist = FreqDist(token)\n",
    "fdist1 = fdist.most_common(20)"
   ]
  },
  {
   "cell_type": "code",
   "execution_count": 18,
   "metadata": {},
   "outputs": [
    {
     "data": {
      "text/plain": [
       "[('friendly', 9312),\n",
       " ('allowed', 8837),\n",
       " ('TV', 8333),\n",
       " (',', 8100),\n",
       " ('Wifi', 7961),\n",
       " ('Essentials', 7909),\n",
       " ('Kitchen', 7841),\n",
       " ('conditioning', 7746),\n",
       " ('Air', 7727),\n",
       " ('Hangers', 7709),\n",
       " ('Hair', 7627),\n",
       " ('dryer', 7627),\n",
       " ('Shampoo', 7328),\n",
       " ('Iron', 7245),\n",
       " ('Heating', 6983),\n",
       " ('entrance', 6723),\n",
       " ('Hot', 6624),\n",
       " ('water', 6453),\n",
       " ('parking', 6446),\n",
       " ('p', 6235)]"
      ]
     },
     "execution_count": 18,
     "metadata": {},
     "output_type": "execute_result"
    }
   ],
   "source": [
    "fdist1"
   ]
  },
  {
   "cell_type": "markdown",
   "metadata": {},
   "source": [
    "Graph below shows the top 10 most common amenities in Athens"
   ]
  },
  {
   "cell_type": "code",
   "execution_count": 19,
   "metadata": {},
   "outputs": [
    {
     "data": {
      "text/plain": [
       "Text(0.5, 1.0, 'Top 10 most common amenities in Athens')"
      ]
     },
     "execution_count": 19,
     "metadata": {},
     "output_type": "execute_result"
    },
    {
     "data": {
      "image/png": "[encoded data removed]",
      "text/plain": [
       "<Figure size 432x288 with 1 Axes>"
      ]
     },
     "metadata": {
      "needs_background": "light"
     },
     "output_type": "display_data"
    }
   ],
   "source": [
    "objects = ('Heating','Iron','Shampoo','Hair Dryer','Hangers','Air Conditioning','Kitchen','Essentials','WIFI','TV')\n",
    "y_pos = np.arange(len(objects))\n",
    "performance = [6983,7245,7328,7627,7709,7746,7841,7909,7961,8333]\n",
    "\n",
    "plt.barh(y_pos, performance, alpha=0.5)\n",
    "plt.yticks(y_pos, objects)\n",
    "plt.xlabel('Amenities frequency')\n",
    "\n",
    "plt.title('Top 10 most common amenities in Athens')"
   ]
  },
  {
   "cell_type": "markdown",
   "metadata": {},
   "source": [
    "## 3) Find number of matched properties in each neighbourhood "
   ]
  },
  {
   "cell_type": "code",
   "execution_count": 20,
   "metadata": {},
   "outputs": [],
   "source": [
    "nei = df_room_bed.neighbourhood"
   ]
  },
  {
   "cell_type": "code",
   "execution_count": 21,
   "metadata": {},
   "outputs": [],
   "source": [
    "text_nei = []\n",
    "for items in nei:\n",
    "    text_nei.append(items)"
   ]
  },
  {
   "cell_type": "code",
   "execution_count": 22,
   "metadata": {},
   "outputs": [
    {
     "data": {
      "text/plain": [
       "list"
      ]
     },
     "execution_count": 22,
     "metadata": {},
     "output_type": "execute_result"
    }
   ],
   "source": [
    "type(text_nei)"
   ]
  },
  {
   "cell_type": "code",
   "execution_count": 23,
   "metadata": {},
   "outputs": [],
   "source": [
    "text_nei = ','.join([str(i) for i in text_nei])"
   ]
  },
  {
   "cell_type": "code",
   "execution_count": 24,
   "metadata": {},
   "outputs": [],
   "source": [
    "token_nei = word_tokenize(text_nei)"
   ]
  },
  {
   "cell_type": "code",
   "execution_count": 25,
   "metadata": {},
   "outputs": [],
   "source": [
    "fdist_nei = FreqDist(token_nei)\n",
    "fdist1_nei = fdist_nei.most_common(13)"
   ]
  },
  {
   "cell_type": "code",
   "execution_count": 26,
   "metadata": {},
   "outputs": [
    {
     "data": {
      "text/plain": [
       "[(',', 8100),\n",
       " ('Plaka', 989),\n",
       " ('Koukaki', 763),\n",
       " ('Neos', 754),\n",
       " ('Kosmos', 754),\n",
       " ('Kolonaki', 517),\n",
       " ('Pangrati', 513),\n",
       " ('Larissis', 471),\n",
       " ('Ambelokipi', 437),\n",
       " ('Metaxourgeio', 406),\n",
       " ('Exarcheia', 404),\n",
       " ('Psyri', 389),\n",
       " ('Kerameikos', 311)]"
      ]
     },
     "execution_count": 26,
     "metadata": {},
     "output_type": "execute_result"
    }
   ],
   "source": [
    "fdist1_nei"
   ]
  },
  {
   "cell_type": "markdown",
   "metadata": {},
   "source": [
    "Graph below shows the top 10 neighbourhood in Athens with double bed"
   ]
  },
  {
   "cell_type": "code",
   "execution_count": 27,
   "metadata": {},
   "outputs": [
    {
     "data": {
      "text/plain": [
       "Text(0.5, 1.0, 'Top 10 neighbourhood in Athens with double bed')"
      ]
     },
     "execution_count": 27,
     "metadata": {},
     "output_type": "execute_result"
    },
    {
     "data": {
      "image/png": "[encoded data removed]",
      "text/plain": [
       "<Figure size 432x288 with 1 Axes>"
      ]
     },
     "metadata": {
      "needs_background": "light"
     },
     "output_type": "display_data"
    }
   ],
   "source": [
    "objects = ('Kerameikos', 'Psyri','Exarcheia','Metaxourgeio','Ambelokipi','Larissis','Pangrati','Kolonaki','Neos Kosmos','Koukaki')\n",
    "y_pos = np.arange(len(objects))\n",
    "performance = [311, 389, 404, 406, 437, 471, 513, 517,754, 763]\n",
    "\n",
    "plt.barh(y_pos, performance, alpha=0.5)\n",
    "plt.yticks(y_pos, objects)\n",
    "plt.xlabel('Number of Properties in the neighbourhood')\n",
    "\n",
    "plt.title('Top 10 neighbourhood in Athens with double bed')"
   ]
  },
  {
   "cell_type": "markdown",
   "metadata": {},
   "source": [
    "## 4）Predict future price for properties in Athens"
   ]
  },
  {
   "cell_type": "code",
   "execution_count": 28,
   "metadata": {},
   "outputs": [
    {
     "data": {
      "text/html": [
       "<div>\n",
       "<style scoped>\n",
       "    .dataframe tbody tr th:only-of-type {\n",
       "        vertical-align: middle;\n",
       "    }\n",
       "\n",
       "    .dataframe tbody tr th {\n",
       "        vertical-align: top;\n",
       "    }\n",
       "\n",
       "    .dataframe thead th {\n",
       "        text-align: right;\n",
       "    }\n",
       "</style>\n",
       "<table border=\"1\" class=\"dataframe\">\n",
       "  <thead>\n",
       "    <tr style=\"text-align: right;\">\n",
       "      <th></th>\n",
       "      <th>listing_id</th>\n",
       "      <th>date</th>\n",
       "      <th>available</th>\n",
       "      <th>price</th>\n",
       "      <th>adjusted_price</th>\n",
       "      <th>minimum_nights</th>\n",
       "      <th>maximum_nights</th>\n",
       "    </tr>\n",
       "  </thead>\n",
       "  <tbody>\n",
       "    <tr>\n",
       "      <td>0</td>\n",
       "      <td>10595</td>\n",
       "      <td>2019-11-19</td>\n",
       "      <td>f</td>\n",
       "      <td>59.0</td>\n",
       "      <td>59.0</td>\n",
       "      <td>1</td>\n",
       "      <td>45</td>\n",
       "    </tr>\n",
       "    <tr>\n",
       "      <td>1</td>\n",
       "      <td>10595</td>\n",
       "      <td>2019-11-20</td>\n",
       "      <td>f</td>\n",
       "      <td>59.0</td>\n",
       "      <td>59.0</td>\n",
       "      <td>1</td>\n",
       "      <td>45</td>\n",
       "    </tr>\n",
       "    <tr>\n",
       "      <td>2</td>\n",
       "      <td>10595</td>\n",
       "      <td>2019-11-21</td>\n",
       "      <td>f</td>\n",
       "      <td>59.0</td>\n",
       "      <td>59.0</td>\n",
       "      <td>1</td>\n",
       "      <td>45</td>\n",
       "    </tr>\n",
       "    <tr>\n",
       "      <td>3</td>\n",
       "      <td>10595</td>\n",
       "      <td>2019-11-22</td>\n",
       "      <td>f</td>\n",
       "      <td>59.0</td>\n",
       "      <td>59.0</td>\n",
       "      <td>1</td>\n",
       "      <td>45</td>\n",
       "    </tr>\n",
       "    <tr>\n",
       "      <td>4</td>\n",
       "      <td>10595</td>\n",
       "      <td>2019-11-23</td>\n",
       "      <td>f</td>\n",
       "      <td>59.0</td>\n",
       "      <td>59.0</td>\n",
       "      <td>1</td>\n",
       "      <td>45</td>\n",
       "    </tr>\n",
       "  </tbody>\n",
       "</table>\n",
       "</div>"
      ],
      "text/plain": [
       "   listing_id        date available  price  adjusted_price  minimum_nights  \\\n",
       "0       10595  2019-11-19         f   59.0            59.0               1   \n",
       "1       10595  2019-11-20         f   59.0            59.0               1   \n",
       "2       10595  2019-11-21         f   59.0            59.0               1   \n",
       "3       10595  2019-11-22         f   59.0            59.0               1   \n",
       "4       10595  2019-11-23         f   59.0            59.0               1   \n",
       "\n",
       "   maximum_nights  \n",
       "0              45  \n",
       "1              45  \n",
       "2              45  \n",
       "3              45  \n",
       "4              45  "
      ]
     },
     "execution_count": 28,
     "metadata": {},
     "output_type": "execute_result"
    }
   ],
   "source": [
    "calendar = pd.read_csv('C:/Users/zhaoy/Desktop/victor/calendar.csv')\n",
    "#change price type to int\n",
    "calendar['price']=calendar['price'].replace('[\\$,]', '', regex=True).astype(float)\n",
    "calendar['adjusted_price']=calendar['adjusted_price'].replace('[\\$,]', '', regex=True).astype(float)\n",
    "\n",
    "calendar.head()"
   ]
  },
  {
   "cell_type": "code",
   "execution_count": 29,
   "metadata": {},
   "outputs": [
    {
     "data": {
      "text/html": [
       "<div>\n",
       "<style scoped>\n",
       "    .dataframe tbody tr th:only-of-type {\n",
       "        vertical-align: middle;\n",
       "    }\n",
       "\n",
       "    .dataframe tbody tr th {\n",
       "        vertical-align: top;\n",
       "    }\n",
       "\n",
       "    .dataframe thead th {\n",
       "        text-align: right;\n",
       "    }\n",
       "</style>\n",
       "<table border=\"1\" class=\"dataframe\">\n",
       "  <thead>\n",
       "    <tr style=\"text-align: right;\">\n",
       "      <th></th>\n",
       "      <th>listing_id</th>\n",
       "      <th>price</th>\n",
       "      <th>adjusted_price</th>\n",
       "      <th>minimum_nights</th>\n",
       "      <th>maximum_nights</th>\n",
       "    </tr>\n",
       "    <tr>\n",
       "      <th>date</th>\n",
       "      <th></th>\n",
       "      <th></th>\n",
       "      <th></th>\n",
       "      <th></th>\n",
       "      <th></th>\n",
       "    </tr>\n",
       "  </thead>\n",
       "  <tbody>\n",
       "    <tr>\n",
       "      <td>2019-11-30</td>\n",
       "      <td>2.565721e+07</td>\n",
       "      <td>60.085664</td>\n",
       "      <td>59.791656</td>\n",
       "      <td>3.828199</td>\n",
       "      <td>1667.521590</td>\n",
       "    </tr>\n",
       "    <tr>\n",
       "      <td>2019-12-31</td>\n",
       "      <td>2.565721e+07</td>\n",
       "      <td>65.278832</td>\n",
       "      <td>64.850458</td>\n",
       "      <td>3.836444</td>\n",
       "      <td>1667.986278</td>\n",
       "    </tr>\n",
       "    <tr>\n",
       "      <td>2020-01-31</td>\n",
       "      <td>2.565721e+07</td>\n",
       "      <td>70.968441</td>\n",
       "      <td>70.230816</td>\n",
       "      <td>3.835353</td>\n",
       "      <td>1668.837767</td>\n",
       "    </tr>\n",
       "    <tr>\n",
       "      <td>2020-02-29</td>\n",
       "      <td>2.565721e+07</td>\n",
       "      <td>82.664281</td>\n",
       "      <td>82.431587</td>\n",
       "      <td>3.753848</td>\n",
       "      <td>1668.864482</td>\n",
       "    </tr>\n",
       "    <tr>\n",
       "      <td>2020-03-31</td>\n",
       "      <td>2.565721e+07</td>\n",
       "      <td>85.977294</td>\n",
       "      <td>85.783851</td>\n",
       "      <td>3.581413</td>\n",
       "      <td>1668.838082</td>\n",
       "    </tr>\n",
       "    <tr>\n",
       "      <td>2020-04-30</td>\n",
       "      <td>2.565721e+07</td>\n",
       "      <td>89.088632</td>\n",
       "      <td>88.867034</td>\n",
       "      <td>3.587813</td>\n",
       "      <td>1669.099381</td>\n",
       "    </tr>\n",
       "    <tr>\n",
       "      <td>2020-05-31</td>\n",
       "      <td>2.565721e+07</td>\n",
       "      <td>95.104659</td>\n",
       "      <td>94.855453</td>\n",
       "      <td>3.584469</td>\n",
       "      <td>1669.690159</td>\n",
       "    </tr>\n",
       "    <tr>\n",
       "      <td>2020-06-30</td>\n",
       "      <td>2.565721e+07</td>\n",
       "      <td>96.289168</td>\n",
       "      <td>96.024248</td>\n",
       "      <td>3.582772</td>\n",
       "      <td>1669.702986</td>\n",
       "    </tr>\n",
       "    <tr>\n",
       "      <td>2020-07-31</td>\n",
       "      <td>2.565721e+07</td>\n",
       "      <td>96.465429</td>\n",
       "      <td>96.196155</td>\n",
       "      <td>3.579786</td>\n",
       "      <td>1669.798275</td>\n",
       "    </tr>\n",
       "    <tr>\n",
       "      <td>2020-08-31</td>\n",
       "      <td>2.565721e+07</td>\n",
       "      <td>96.076832</td>\n",
       "      <td>95.810341</td>\n",
       "      <td>3.580912</td>\n",
       "      <td>1669.804756</td>\n",
       "    </tr>\n",
       "    <tr>\n",
       "      <td>2020-09-30</td>\n",
       "      <td>2.565721e+07</td>\n",
       "      <td>100.030149</td>\n",
       "      <td>99.766584</td>\n",
       "      <td>3.576202</td>\n",
       "      <td>1669.800444</td>\n",
       "    </tr>\n",
       "    <tr>\n",
       "      <td>2020-10-31</td>\n",
       "      <td>2.565721e+07</td>\n",
       "      <td>100.571280</td>\n",
       "      <td>100.321830</td>\n",
       "      <td>3.579176</td>\n",
       "      <td>1670.096376</td>\n",
       "    </tr>\n",
       "    <tr>\n",
       "      <td>2020-11-30</td>\n",
       "      <td>2.565721e+07</td>\n",
       "      <td>132.746498</td>\n",
       "      <td>131.941453</td>\n",
       "      <td>3.566613</td>\n",
       "      <td>1674.032219</td>\n",
       "    </tr>\n",
       "  </tbody>\n",
       "</table>\n",
       "</div>"
      ],
      "text/plain": [
       "              listing_id       price  adjusted_price  minimum_nights  \\\n",
       "date                                                                   \n",
       "2019-11-30  2.565721e+07   60.085664       59.791656        3.828199   \n",
       "2019-12-31  2.565721e+07   65.278832       64.850458        3.836444   \n",
       "2020-01-31  2.565721e+07   70.968441       70.230816        3.835353   \n",
       "2020-02-29  2.565721e+07   82.664281       82.431587        3.753848   \n",
       "2020-03-31  2.565721e+07   85.977294       85.783851        3.581413   \n",
       "2020-04-30  2.565721e+07   89.088632       88.867034        3.587813   \n",
       "2020-05-31  2.565721e+07   95.104659       94.855453        3.584469   \n",
       "2020-06-30  2.565721e+07   96.289168       96.024248        3.582772   \n",
       "2020-07-31  2.565721e+07   96.465429       96.196155        3.579786   \n",
       "2020-08-31  2.565721e+07   96.076832       95.810341        3.580912   \n",
       "2020-09-30  2.565721e+07  100.030149       99.766584        3.576202   \n",
       "2020-10-31  2.565721e+07  100.571280      100.321830        3.579176   \n",
       "2020-11-30  2.565721e+07  132.746498      131.941453        3.566613   \n",
       "\n",
       "            maximum_nights  \n",
       "date                        \n",
       "2019-11-30     1667.521590  \n",
       "2019-12-31     1667.986278  \n",
       "2020-01-31     1668.837767  \n",
       "2020-02-29     1668.864482  \n",
       "2020-03-31     1668.838082  \n",
       "2020-04-30     1669.099381  \n",
       "2020-05-31     1669.690159  \n",
       "2020-06-30     1669.702986  \n",
       "2020-07-31     1669.798275  \n",
       "2020-08-31     1669.804756  \n",
       "2020-09-30     1669.800444  \n",
       "2020-10-31     1670.096376  \n",
       "2020-11-30     1674.032219  "
      ]
     },
     "execution_count": 29,
     "metadata": {},
     "output_type": "execute_result"
    }
   ],
   "source": [
    "#change date type to year\n",
    "calendar['date'] = pd.to_datetime(calendar['date'])\n",
    "calendar.set_index(['date'], inplace = True) \n",
    "#avg price per month\n",
    "dt = calendar.groupby(pd.Grouper(freq='M')).mean()\n",
    "dt"
   ]
  },
  {
   "cell_type": "code",
   "execution_count": 30,
   "metadata": {},
   "outputs": [
    {
     "data": {
      "image/png": "[encoded data removed]",
      "text/plain": [
       "<Figure size 720x360 with 1 Axes>"
      ]
     },
     "metadata": {
      "needs_background": "light"
     },
     "output_type": "display_data"
    }
   ],
   "source": [
    "#Average price change\n",
    "dt_price_change = dt['price'].pct_change()*100 \n",
    "fig, ax = plt.subplots(figsize=(10,5)) \n",
    "ax.plot(dt.index, dt['price'], color = 'red')\n",
    "ax.set_ylabel('Average Price')  # add the y-axis label\n",
    "ax.set_xlabel('Month')                 # add the x-axis label\n",
    "ax.set_title('2019-2020 Average Price Per Month')\n",
    "\n",
    "ax.spines['right'].set_visible(False) # get ride of the line on the right\n",
    "ax.spines['top'].set_visible(False)   # get rid of the line on top\n",
    "ax.yaxis.grid() # horizontal lines\n",
    "#plt.savefig('2019_2020_price.png') "
   ]
  },
  {
   "cell_type": "code",
   "execution_count": 31,
   "metadata": {},
   "outputs": [
    {
     "data": {
      "text/html": [
       "<div>\n",
       "<style scoped>\n",
       "    .dataframe tbody tr th:only-of-type {\n",
       "        vertical-align: middle;\n",
       "    }\n",
       "\n",
       "    .dataframe tbody tr th {\n",
       "        vertical-align: top;\n",
       "    }\n",
       "\n",
       "    .dataframe thead th {\n",
       "        text-align: right;\n",
       "    }\n",
       "</style>\n",
       "<table border=\"1\" class=\"dataframe\">\n",
       "  <thead>\n",
       "    <tr style=\"text-align: right;\">\n",
       "      <th></th>\n",
       "      <th>listing_id</th>\n",
       "      <th>price</th>\n",
       "      <th>adjusted_price</th>\n",
       "      <th>minimum_nights</th>\n",
       "      <th>maximum_nights</th>\n",
       "    </tr>\n",
       "    <tr>\n",
       "      <th>date</th>\n",
       "      <th></th>\n",
       "      <th></th>\n",
       "      <th></th>\n",
       "      <th></th>\n",
       "      <th></th>\n",
       "    </tr>\n",
       "  </thead>\n",
       "  <tbody>\n",
       "    <tr>\n",
       "      <td>2019-11-30</td>\n",
       "      <td>2.494904e+07</td>\n",
       "      <td>59.225299</td>\n",
       "      <td>59.101629</td>\n",
       "      <td>5.092493</td>\n",
       "      <td>2665.909485</td>\n",
       "    </tr>\n",
       "    <tr>\n",
       "      <td>2019-12-31</td>\n",
       "      <td>2.440183e+07</td>\n",
       "      <td>66.733469</td>\n",
       "      <td>65.961359</td>\n",
       "      <td>6.088621</td>\n",
       "      <td>3228.845358</td>\n",
       "    </tr>\n",
       "    <tr>\n",
       "      <td>2020-01-31</td>\n",
       "      <td>2.390317e+07</td>\n",
       "      <td>89.803245</td>\n",
       "      <td>87.625095</td>\n",
       "      <td>7.364602</td>\n",
       "      <td>4086.170807</td>\n",
       "    </tr>\n",
       "    <tr>\n",
       "      <td>2020-02-29</td>\n",
       "      <td>2.414775e+07</td>\n",
       "      <td>88.292834</td>\n",
       "      <td>88.196109</td>\n",
       "      <td>6.209030</td>\n",
       "      <td>4372.057227</td>\n",
       "    </tr>\n",
       "    <tr>\n",
       "      <td>2020-03-31</td>\n",
       "      <td>2.445869e+07</td>\n",
       "      <td>83.302662</td>\n",
       "      <td>83.157191</td>\n",
       "      <td>4.079808</td>\n",
       "      <td>4219.300508</td>\n",
       "    </tr>\n",
       "  </tbody>\n",
       "</table>\n",
       "</div>"
      ],
      "text/plain": [
       "              listing_id      price  adjusted_price  minimum_nights  \\\n",
       "date                                                                  \n",
       "2019-11-30  2.494904e+07  59.225299       59.101629        5.092493   \n",
       "2019-12-31  2.440183e+07  66.733469       65.961359        6.088621   \n",
       "2020-01-31  2.390317e+07  89.803245       87.625095        7.364602   \n",
       "2020-02-29  2.414775e+07  88.292834       88.196109        6.209030   \n",
       "2020-03-31  2.445869e+07  83.302662       83.157191        4.079808   \n",
       "\n",
       "            maximum_nights  \n",
       "date                        \n",
       "2019-11-30     2665.909485  \n",
       "2019-12-31     3228.845358  \n",
       "2020-01-31     4086.170807  \n",
       "2020-02-29     4372.057227  \n",
       "2020-03-31     4219.300508  "
      ]
     },
     "execution_count": 31,
     "metadata": {},
     "output_type": "execute_result"
    }
   ],
   "source": [
    "#We only want the price from 2019-11-29 to 2020-11-30\n",
    "d = calendar.index >= '2019-11-29'\n",
    "e = calendar.loc[d]\n",
    "\n",
    "# We want to distinguish the availability\n",
    "#ct as the available lists\n",
    "ct = e['available']=='t'    \n",
    "ct = e.loc[ct]\n",
    "\n",
    "#cf as the unavailable lists\n",
    "cf = e['available']=='f'   \n",
    "cf = e.loc[cf]\n",
    "\n",
    "#group by list id and calculate the avg price per month\n",
    "ct =ct.groupby(pd.Grouper(freq='M')).mean()\n",
    "cf =cf.groupby(pd.Grouper(freq='M')).mean()\n",
    "cf.head()"
   ]
  },
  {
   "cell_type": "code",
   "execution_count": 32,
   "metadata": {},
   "outputs": [],
   "source": [
    "#we want to analyse the growth rate of average price\n",
    "#available lists\n",
    "pt_change_2020 = ct['price'].pct_change()*100   #percentage change, growth rate\n",
    "#unavailable lists\n",
    "pf_change_2020 = cf['price'].pct_change()*100   #percentage change, growth rate"
   ]
  },
  {
   "cell_type": "code",
   "execution_count": 33,
   "metadata": {},
   "outputs": [
    {
     "data": {
      "image/png": "[encoded data removed]",
      "text/plain": [
       "<Figure size 1080x576 with 1 Axes>"
      ]
     },
     "metadata": {
      "needs_background": "light"
     },
     "output_type": "display_data"
    }
   ],
   "source": [
    "my_props = {'facecolor':'black',  'arrowstyle':'->'}\n",
    "\n",
    "#2020 availability\n",
    "new_fig, new_ax = plt.subplots(figsize = (15,8))\n",
    "\n",
    "new_ax.plot(ct.index,pt_change_2020,color = 'blue',label = \"Available\")\n",
    "new_ax.plot(ct.index,pf_change_2020,'r--',color = 'red',label = \"Not available\")\n",
    "new_ax.axhline(y=0, color='black', linewidth=0.75) \n",
    "new_ax.set_ylabel('Percentage Change of Average Price')  # add the y-axis label\n",
    "new_ax.set_xlabel('Month')                 # add the x-axis label\n",
    "new_ax.set_title('2020 Average Price(%) Per Month')\n",
    "\n",
    "new_ax.spines['right'].set_visible(False) # get ride of the line on the right\n",
    "new_ax.spines['top'].set_visible(False)   # get rid of the line on top\n",
    "\n",
    "new_ax.legend(frameon=False) \n",
    "\n",
    "new_ax.annotate('Increase 34.57%', xy=('2020-01-31', 34.5), xytext=('2020-02-06',34.5), arrowprops=my_props)\n",
    "new_ax.annotate('Decrease 5.13%', xy=('2020-10-31', -5), xytext=('2020-11-06',-5), arrowprops=my_props)\n",
    "new_ax.annotate('Increase 26.41%', xy=('2020-02-29', 26), xytext=('2020-03-06',26), arrowprops=my_props)\n",
    "new_ax.annotate('Increase 12.58%', xy=('2020-05-31', 12.5), xytext=('2020-06-06',12.5), arrowprops=my_props)\n",
    "new_ax.annotate('Increase 45.64%', xy=('2020-11-30', 45.6), xytext=('2020-12-06',45.6), arrowprops=my_props)\n",
    "new_ax.annotate('Increase 22.29%', xy=('2020-11-29', 22), xytext=('2020-12-05',22), arrowprops=my_props)\n",
    "\n",
    "plt.show()\n",
    "#plt.savefig('2020_availability.png') "
   ]
  },
  {
   "cell_type": "markdown",
   "metadata": {},
   "source": [
    "## 5) Make final recommendation on properties"
   ]
  },
  {
   "cell_type": "code",
   "execution_count": 40,
   "metadata": {},
   "outputs": [],
   "source": [
    "df = df_room_bed\n",
    "\n",
    "#Find the matched properties with criteria on price, review scores, room type, bed type etc...\n",
    "df = df[df['price'] <= 50]\n",
    "df = df[df['availability_365'] == 365]\n",
    "df = df[df['review_scores_rating'] >= 95]\n",
    "df = df[df['neighbourhood'] == 'Koukaki']\n",
    "df = df[df['room_type'] == 'Entire home/apt']\n"
   ]
  },
  {
   "cell_type": "markdown",
   "metadata": {},
   "source": [
    "In the end we have 3 properties matched our criteria, we provide the airbnb link for them:"
   ]
  },
  {
   "cell_type": "code",
   "execution_count": 41,
   "metadata": {},
   "outputs": [
    {
     "data": {
      "text/plain": [
       "1702    https://www.airbnb.com/rooms/15627184\n",
       "3436    https://www.airbnb.com/rooms/22916423\n",
       "6942    https://www.airbnb.com/rooms/33465448\n",
       "Name: listing_url, dtype: object"
      ]
     },
     "execution_count": 41,
     "metadata": {},
     "output_type": "execute_result"
    }
   ],
   "source": [
    "df.listing_url"
   ]
  }
 ],
 "metadata": {
  "kernelspec": {
   "display_name": "Python 3",
   "language": "python",
   "name": "python3"
  },
  "language_info": {
   "codemirror_mode": {
    "name": "ipython",
    "version": 3
   },
   "file_extension": ".py",
   "mimetype": "text/x-python",
   "name": "python",
   "nbconvert_exporter": "python",
   "pygments_lexer": "ipython3",
   "version": "3.7.4"
  }
 },
 "nbformat": 4,
 "nbformat_minor": 2
}
